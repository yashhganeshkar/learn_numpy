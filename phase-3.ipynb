{
 "cells": [
  {
   "cell_type": "code",
   "execution_count": 2,
   "metadata": {},
   "outputs": [],
   "source": [
    "import numpy as np\n",
    "# import matplotlib.pyplot as plt"
   ]
  },
  {
   "cell_type": "code",
   "execution_count": 6,
   "metadata": {},
   "outputs": [
    {
     "name": "stdout",
     "output_type": "stream",
     "text": [
      "=== Zomato Sales Analysis ===\n",
      "\n",
      " Shape of the Data = (5, 5)\n",
      "\n",
      " Sample Data of First Three Restaurant = \n",
      " [[     1 150000 180000 220000 250000]\n",
      " [     2 120000 140000 160000 190000]\n",
      " [     3 200000 230000 260000 300000]]\n",
      "\n",
      " Sample Data  = \n",
      " [[150000 180000 220000 250000]\n",
      " [120000 140000 160000 190000]\n",
      " [200000 230000 260000 300000]\n",
      " [180000 210000 240000 270000]\n",
      " [160000 185000 205000 230000]]\n"
     ]
    }
   ],
   "source": [
    "# Data structure: [restaurant_id, 2021, 2022, 2023, 2024]\n",
    "sales_data = np.array([\n",
    "    [1, 150000, 180000, 220000, 250000],  # Paradise Biryani\n",
    "    [2, 120000, 140000, 160000, 190000],  # Beijing Bites\n",
    "    [3, 200000, 230000, 260000, 300000],  # Pizza Hub\n",
    "    [4, 180000, 210000, 240000, 270000],  # Burger Point\n",
    "    [5, 160000, 185000, 205000, 230000]   # Chai Point\n",
    "])\n",
    "\n",
    "print(\"=== Zomato Sales Analysis ===\")\n",
    "print(f\"\\n Shape of the Data = {sales_data.shape}\")\n",
    "print(f\"\\n Sample Data of First Three Restaurant = \\n {sales_data[:3]}\")\n",
    "print(f\"\\n Sample Data  = \\n {sales_data[:, 1:]}\")\n"
   ]
  },
  {
   "cell_type": "code",
   "execution_count": 15,
   "metadata": {},
   "outputs": [
    {
     "name": "stdout",
     "output_type": "stream",
     "text": [
      "[     15  810000  945000 1085000 1240000]\n",
      "[ 810000  945000 1085000 1240000]\n",
      "4080000\n",
      "[150000 120000 200000 180000 160000]\n",
      "[200000 230000 260000 300000]\n",
      "Avg Sale Per Year =  [162000. 189000. 217000. 248000.]\n"
     ]
    }
   ],
   "source": [
    "#Total sales of per year\n",
    "\n",
    "print(np.sum(sales_data, axis=0))\n",
    "year_total = np.sum(sales_data[:, 1:], axis=0)\n",
    "year_total_all = np.sum(year_total, axis=0)\n",
    "print(year_total)\n",
    "print(year_total_all)\n",
    "\n",
    "# Minimum Sales per Restuarant\n",
    "min_sales = np.min(sales_data[:, 1:], axis=1)\n",
    "print(min_sales)\n",
    "\n",
    "#maximum Sales Per Year\n",
    "max_sales = np.max(sales_data[:, 1:], axis=0)\n",
    "print(max_sales)\n",
    "\n",
    "#Avg Sale Per Year[162000. 189000. 217000. 248000.]\n",
    "avg_sale_per_year = np.mean(sales_data[:, 1:],axis=0)\n",
    "print(\"Avg Sale Per Year = \",avg_sale_per_year)"
   ]
  },
  {
   "cell_type": "markdown",
   "metadata": {},
   "source": [
    "## Cumulative Sum"
   ]
  },
  {
   "cell_type": "code",
   "execution_count": 16,
   "metadata": {},
   "outputs": [
    {
     "name": "stdout",
     "output_type": "stream",
     "text": [
      "[[ 150000  180000  220000  250000]\n",
      " [ 270000  320000  380000  440000]\n",
      " [ 470000  550000  640000  740000]\n",
      " [ 650000  760000  880000 1010000]\n",
      " [ 810000  945000 1085000 1240000]]\n"
     ]
    }
   ],
   "source": [
    "cumsum = np.cumsum(sales_data[:, 1:], axis=0)\n",
    "print(cumsum)"
   ]
  },
  {
   "cell_type": "markdown",
   "metadata": {},
   "source": [
    "## Vectors"
   ]
  },
  {
   "cell_type": "code",
   "execution_count": 20,
   "metadata": {},
   "outputs": [
    {
     "name": "stdout",
     "output_type": "stream",
     "text": [
      "Sum of Vectors = [ 7  9 11 13 15]\n",
      "Mul of Vectors = [ 6 14 24 36 50]\n",
      "Dot Product = 130\n",
      "Vectorized Upper = ['BIRYANI' 'CHINESE' 'PIZZA' 'BURGER' 'CAFE']\n"
     ]
    }
   ],
   "source": [
    "vector1 = np.array([1,2,3,4,5])\n",
    "vector2 = np.array([6,7,8,9,10])\n",
    "\n",
    "print(f\"Sum of Vectors = {vector1 + vector2}\")\n",
    "print(f\"Mul of Vectors = {vector1 * vector2}\")\n",
    "print(f\"Dot Product = {np.dot(vector1, vector2)}\")\n",
    "\n",
    "#Capitalize All Array\n",
    "\n",
    "restaurant_types = np.array(['biryani','chinese', 'pizza', 'burger', 'cafe'])\n",
    "\n",
    "vectorized_upper = np.vectorize(str.upper)\n",
    "\n",
    "print(f\"Vectorized Upper = {vectorized_upper(restaurant_types)}\")\n"
   ]
  }
 ],
 "metadata": {
  "kernelspec": {
   "display_name": "Python 3",
   "language": "python",
   "name": "python3"
  },
  "language_info": {
   "codemirror_mode": {
    "name": "ipython",
    "version": 3
   },
   "file_extension": ".py",
   "mimetype": "text/x-python",
   "name": "python",
   "nbconvert_exporter": "python",
   "pygments_lexer": "ipython3",
   "version": "3.10.12"
  }
 },
 "nbformat": 4,
 "nbformat_minor": 2
}
