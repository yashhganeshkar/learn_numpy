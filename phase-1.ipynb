{
 "cells": [
  {
   "cell_type": "markdown",
   "metadata": {},
   "source": [
    "## Numpy Array and Basics"
   ]
  },
  {
   "cell_type": "code",
   "execution_count": 1,
   "metadata": {},
   "outputs": [],
   "source": [
    "import numpy as np"
   ]
  },
  {
   "cell_type": "markdown",
   "metadata": {},
   "source": [
    "# Arrays in Numpy"
   ]
  },
  {
   "cell_type": "code",
   "execution_count": 3,
   "metadata": {},
   "outputs": [
    {
     "name": "stdout",
     "output_type": "stream",
     "text": [
      "This is the 1D Array = [1 2 3 4 5]\n",
      "2D Array = [[1 2 3]\n",
      " [4 5 6]]\n"
     ]
    }
   ],
   "source": [
    "arr_1d = np.array([1,2,3,4,5])\n",
    "\n",
    "print(f\"This is the 1D Array = {arr_1d}\")\n",
    "\n",
    "arr_2d = np.array([[1,2,3], [4,5,6]])\n",
    "\n",
    "print(f\"2D Array = {arr_2d}\")"
   ]
  },
  {
   "cell_type": "markdown",
   "metadata": {},
   "source": [
    "# List vs Numpy array"
   ]
  },
  {
   "cell_type": "code",
   "execution_count": 5,
   "metadata": {},
   "outputs": [
    {
     "name": "stdout",
     "output_type": "stream",
     "text": [
      "This is the list = [1, 2, 3, 4, 5, 1, 2, 3, 4, 5]\n",
      "This is the Array = [ 2  4  6  8 10]\n"
     ]
    }
   ],
   "source": [
    "py_list = [1,2,3,4,5]\n",
    "print(f\"This is the list = {py_list * 2}\")\n",
    "\n",
    "np_array = np.array([1,2,3,4,5])\n",
    "print(f\"This is the Array = {np_array * 2}\")\n"
   ]
  },
  {
   "cell_type": "markdown",
   "metadata": {},
   "source": [
    "# Speed test of List and array"
   ]
  },
  {
   "cell_type": "code",
   "execution_count": 7,
   "metadata": {},
   "outputs": [
    {
     "name": "stdout",
     "output_type": "stream",
     "text": [
      "\n",
      " List Operation Time 0.14365243911743164\n",
      "\n",
      " Array Operation Time 0.08798861503601074\n"
     ]
    }
   ],
   "source": [
    "import time\n",
    "\n",
    "start =  time.time()\n",
    "py_list = [i*2 for i in range(1000000)]\n",
    "print(\"\\n List Operation Time\", time.time() - start)\n",
    "\n",
    "start = time.time()\n",
    "np_array = np.arange(1000000) * 2\n",
    "print(\"\\n Array Operation Time\", time.time() - start)"
   ]
  },
  {
   "cell_type": "markdown",
   "metadata": {},
   "source": [
    "### Creating array from scratch"
   ]
  },
  {
   "cell_type": "code",
   "execution_count": 13,
   "metadata": {},
   "outputs": [
    {
     "name": "stdout",
     "output_type": "stream",
     "text": [
      "\n",
      "  [[0. 0. 0.]\n",
      " [0. 0. 0.]]\n",
      "\n",
      "  [[1. 1. 1.]\n",
      " [1. 1. 1.]]\n",
      "\n",
      "  [[7 7 7]\n",
      " [7 7 7]]\n",
      "\n",
      "  [[0.67931044 0.96490301 0.46207517]\n",
      " [0.78409978 0.56544616 0.02344344]]\n",
      "\n",
      "  [ 0  2  4  6  8 10]\n"
     ]
    }
   ],
   "source": [
    "zeros = np.zeros((2,3))\n",
    "print(\"\\n \", zeros)\n",
    "\n",
    "ones = np.ones((2,3))\n",
    "print(\"\\n \", ones)\n",
    "\n",
    "full = np.full((2,3), 7)\n",
    "print(\"\\n \", full)\n",
    "\n",
    "random = np.random.random((2,3))\n",
    "print(\"\\n \", random)\n",
    "\n",
    "arange = np.arange(0, 11, 2)\n",
    "print(\"\\n \", arange)\n"
   ]
  },
  {
   "cell_type": "markdown",
   "metadata": {},
   "source": [
    "### Vector, Matrices and Tensor"
   ]
  },
  {
   "cell_type": "code",
   "execution_count": 16,
   "metadata": {},
   "outputs": [
    {
     "name": "stdout",
     "output_type": "stream",
     "text": [
      "\n",
      " Vector = \n",
      " [1 2 3 4]\n",
      "\n",
      " Matrix = \n",
      " [[1 2 3]\n",
      " [4 5 6]]\n",
      "\n",
      " Tensor = \n",
      " [[[1 2 3]\n",
      "  [4 5 6]]\n",
      "\n",
      " [[7 8 9]\n",
      "  [2 3 4]]]\n"
     ]
    }
   ],
   "source": [
    "vector = np.array([1,2,3,4])\n",
    "print(f\"\\n Vector = \\n {vector}\")\n",
    "\n",
    "matrix = np.array([[1,2,3],\n",
    "                   [4,5,6]])\n",
    "\n",
    "print(f\"\\n Matrix = \\n {matrix}\")\n",
    "\n",
    "tensor = np.array([\n",
    "                    [[1,2,3], [4,5,6]],\n",
    "                    [[7,8,9], [2,3,4]]\n",
    "                ])\n",
    "print(f\"\\n Tensor = \\n {tensor}\")"
   ]
  },
  {
   "cell_type": "markdown",
   "metadata": {},
   "source": [
    "### Array  Properties"
   ]
  },
  {
   "cell_type": "code",
   "execution_count": 18,
   "metadata": {},
   "outputs": [
    {
     "name": "stdout",
     "output_type": "stream",
     "text": [
      "Shape = (2, 3)\n",
      "Dimensions = 2\n",
      "Size = 6\n",
      "Dtype = int64\n"
     ]
    }
   ],
   "source": [
    "arr = np.array([[1,2,3],\n",
    "                [4,5,6]])\n",
    "\n",
    "print(f\"Shape = {arr.shape}\")\n",
    "print(f\"Dimensions = {arr.ndim}\")\n",
    "print(f\"Size = {arr.size}\")\n",
    "print(f\"Dtype = {arr.dtype}\")"
   ]
  },
  {
   "cell_type": "markdown",
   "metadata": {},
   "source": [
    "### Array Reshaping"
   ]
  },
  {
   "cell_type": "code",
   "execution_count": 28,
   "metadata": {},
   "outputs": [
    {
     "name": "stdout",
     "output_type": "stream",
     "text": [
      "Original Array = [ 0  1  2  3  4  5  6  7  8  9 10 11]\n",
      "Reshaping Array = \n",
      " [[ 0  1  2  3]\n",
      " [ 4  5  6  7]\n",
      " [ 8  9 10 11]]\n",
      "Flattened Array = \n",
      " [ 0  1  2  3  4  5  6  7  8  9 10 11]\n",
      "Ravelled Array =\n",
      "  [ 0  1  2  3  4  5  6  7  8  9 10 11]\n",
      "Transverse Array = \n",
      " [[ 0  4  8]\n",
      " [ 1  5  9]\n",
      " [ 2  6 10]\n",
      " [ 3  7 11]]\n"
     ]
    }
   ],
   "source": [
    "arr = np.arange(12)\n",
    "print(\"Original Array =\",arr)\n",
    "\n",
    "reshaping = arr.reshape((3,4))\n",
    "print(\"Reshaping Array = \\n\",reshaping)\n",
    "\n",
    "flattened = reshaping.flatten() # Return Copy of Original Array\n",
    "print(\"Flattened Array = \\n\",flattened)\n",
    "\n",
    "ravelled = reshaping.ravel() # Return view instead of Copy\n",
    "print(\"Ravelled Array =\\n \",ravelled)\n",
    "\n",
    "transverse = reshaping.T #Transverse \n",
    "print(\"Transverse Array = \\n\",transverse)"
   ]
  }
 ],
 "metadata": {
  "kernelspec": {
   "display_name": "Python 3",
   "language": "python",
   "name": "python3"
  },
  "language_info": {
   "codemirror_mode": {
    "name": "ipython",
    "version": 3
   },
   "file_extension": ".py",
   "mimetype": "text/x-python",
   "name": "python",
   "nbconvert_exporter": "python",
   "pygments_lexer": "ipython3",
   "version": "3.10.12"
  }
 },
 "nbformat": 4,
 "nbformat_minor": 2
}
