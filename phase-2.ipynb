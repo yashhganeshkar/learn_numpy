{
 "cells": [
  {
   "cell_type": "markdown",
   "metadata": {},
   "source": [
    "### Numpy Array Operations"
   ]
  },
  {
   "cell_type": "code",
   "execution_count": 3,
   "metadata": {},
   "outputs": [],
   "source": [
    "import numpy as np"
   ]
  },
  {
   "cell_type": "code",
   "execution_count": 19,
   "metadata": {},
   "outputs": [
    {
     "name": "stdout",
     "output_type": "stream",
     "text": [
      "Original Array =  [ 1  2  3  4  5  6  7  8  9 10 11]\n",
      "Slicing = [3 4 5 6 7 8]\n",
      "With Steps = [2 4 6 8]\n",
      "Positive Indexing = 5\n",
      "Negative Indexing = 8\n",
      "Original 2D Array = \n",
      " [[1 2 3]\n",
      " [4 5 6]]\n",
      "Specific Element = 6\n",
      "Entire Row = [4 5 6]\n",
      "Entire Column = [3 6]\n"
     ]
    }
   ],
   "source": [
    "#1D Array\n",
    "\n",
    "arr = np.array([i for i in range(1, 12)])\n",
    "print(\"Original Array = \",arr)\n",
    "\n",
    "print(f\"Slicing = {arr[2:8]}\")\n",
    "print(f\"With Steps = {arr[1:9:2]}\")\n",
    "print(f\"Positive Indexing = {arr[4]}\")\n",
    "print(f\"Negative Indexing = {arr[-4]}\")\n",
    "\n",
    "#2D Array\n",
    "\n",
    "arr_2d = np.array([[1,2,3],\n",
    "                    [4,5,6]])\n",
    "print(f\"Original 2D Array = \\n {arr_2d}\")\n",
    "print(f\"Specific Element = {arr_2d[1,2]}\")\n",
    "print(f\"Entire Row = {arr_2d[1]}\")\n",
    "print(f\"Entire Column = {arr_2d[:, 2]}\")\n"
   ]
  },
  {
   "cell_type": "markdown",
   "metadata": {},
   "source": [
    "### Sorting"
   ]
  },
  {
   "cell_type": "code",
   "execution_count": 25,
   "metadata": {},
   "outputs": [
    {
     "name": "stdout",
     "output_type": "stream",
     "text": [
      "Sorted Array = [1 1 2 3 4 5]\n",
      "Sorted 2D array by Column =\n",
      " [[3 1]\n",
      " [8 2]\n",
      " [9 4]]\n",
      "Sorted 2D array by Row=\n",
      " [[1 3]\n",
      " [4 8]\n",
      " [2 9]]\n"
     ]
    }
   ],
   "source": [
    "unsorted_arr = np.array([3,2,1,1,4,5])\n",
    "print(f\"Sorted Array = {np.sort(unsorted_arr)}\")\n",
    "\n",
    "arr_2d_unsorted = np.array([[3,1], [8,4], [9,2]])\n",
    "print(f\"Sorted 2D array by Column =\\n {np.sort(arr_2d_unsorted, axis=0)}\") #for column sorting\n",
    "print(f\"Sorted 2D array by Row=\\n {np.sort(arr_2d_unsorted, axis=1)}\") #for row (left to right) sorting"
   ]
  },
  {
   "cell_type": "markdown",
   "metadata": {},
   "source": [
    "## Filtering"
   ]
  },
  {
   "cell_type": "code",
   "execution_count": 5,
   "metadata": {},
   "outputs": [
    {
     "name": "stdout",
     "output_type": "stream",
     "text": [
      "Original Array =  [ 1  2  3  4  5  6  7  8  9 10]\n",
      "Even number =  [ 2  4  6  8 10]\n"
     ]
    }
   ],
   "source": [
    "numbers = np.array([i for i in range(1,11)])\n",
    "print(\"Original Array = \",numbers)\n",
    "even_no = numbers % 2 == 0\n",
    "print(\"Even number = \", numbers[even_no])"
   ]
  },
  {
   "cell_type": "markdown",
   "metadata": {},
   "source": [
    "### Filter with Mask"
   ]
  },
  {
   "cell_type": "code",
   "execution_count": 31,
   "metadata": {},
   "outputs": [
    {
     "name": "stdout",
     "output_type": "stream",
     "text": [
      "numbers greater than 5 = [ 6  7  8  9 10]\n"
     ]
    }
   ],
   "source": [
    "mask = numbers > 5\n",
    "print(f\"numbers greater than 5 = {numbers[mask]}\")"
   ]
  },
  {
   "cell_type": "markdown",
   "metadata": {},
   "source": [
    "## Fancy Indexing vs np.where()"
   ]
  },
  {
   "cell_type": "code",
   "execution_count": 34,
   "metadata": {},
   "outputs": [
    {
     "name": "stdout",
     "output_type": "stream",
     "text": [
      "[1 3 5]\n",
      "NP where Result =  [ 6  7  8  9 10]\n"
     ]
    }
   ],
   "source": [
    "indices = [0,2,4]\n",
    "print(numbers[indices])\n",
    "\n",
    "# Where Clause in Python\n",
    "\n",
    "where_result = np.where(numbers > 5)\n",
    "print(\"NP where Result = \", numbers[where_result])"
   ]
  },
  {
   "cell_type": "code",
   "execution_count": 6,
   "metadata": {},
   "outputs": [
    {
     "name": "stdout",
     "output_type": "stream",
     "text": [
      "[ 1  2  3  4  5 12 14 16 18 20]\n"
     ]
    }
   ],
   "source": [
    "# create a Condition Array\n",
    "condition_array = np.where(numbers > 5, numbers * 2, numbers)\n",
    "print(condition_array)"
   ]
  },
  {
   "cell_type": "markdown",
   "metadata": {},
   "source": [
    "### Adding and Removing Data"
   ]
  },
  {
   "cell_type": "code",
   "execution_count": 25,
   "metadata": {},
   "outputs": [
    {
     "name": "stdout",
     "output_type": "stream",
     "text": [
      "[1 2 3 4 5 6]\n",
      "[[1 2]\n",
      " [3 4]]\n",
      "[[1 2]\n",
      " [3 4]\n",
      " [5 6]]\n",
      "With New Columns = \n",
      " [[1 2 7]\n",
      " [3 4 8]]\n",
      "[ 0  1  2  3  4  5  6  7  8  9 10]\n",
      "Array after Deletion = [ 0  1  3  4  5  6  7  8  9 10]\n"
     ]
    }
   ],
   "source": [
    "arr1 = np.array([1,2,3])\n",
    "arr2 = np.array([4,5,6])\n",
    "\n",
    "combined_array = np.concatenate((arr1,arr2))\n",
    "print(combined_array)\n",
    "\n",
    "# Add New row\n",
    "orginal_Array = np.array([[1,2], [3,4]])\n",
    "new_row = np.array([5,6])\n",
    "\n",
    "with_new_row = np.vstack((orginal_Array, new_row))\n",
    "\n",
    "print(orginal_Array)\n",
    "print(with_new_row)\n",
    "\n",
    "#Add New Column\n",
    "\n",
    "new_col = np.array([[7], [8]])\n",
    "with_new_col = np.hstack((orginal_Array, new_col))\n",
    "\n",
    "print(\"With New Columns = \\n\", with_new_col)\n",
    "\n",
    "#Deleting element\n",
    "\n",
    "arr = np.array([i for i in range(11)])\n",
    "print(arr)\n",
    "delete = np.delete(arr,2)\n",
    "print(f\"Array after Deletion = {delete}\")"
   ]
  },
  {
   "cell_type": "markdown",
   "metadata": {},
   "source": [
    "### Array Compatibility"
   ]
  },
  {
   "cell_type": "code",
   "execution_count": 11,
   "metadata": {},
   "outputs": [
    {
     "name": "stdout",
     "output_type": "stream",
     "text": [
      "Compatibility Test = False\n"
     ]
    }
   ],
   "source": [
    "arr1 = np.array([1,2,3,4])\n",
    "arr2 = np.array([5,6,7,8,4])\n",
    "arr3 = np.array([9,8,7,6])\n",
    "\n",
    "print(f\"Compatibility Test = { np.shape(arr1) == np.shape(arr2) }\")"
   ]
  }
 ],
 "metadata": {
  "kernelspec": {
   "display_name": "Python 3",
   "language": "python",
   "name": "python3"
  },
  "language_info": {
   "codemirror_mode": {
    "name": "ipython",
    "version": 3
   },
   "file_extension": ".py",
   "mimetype": "text/x-python",
   "name": "python",
   "nbconvert_exporter": "python",
   "pygments_lexer": "ipython3",
   "version": "3.10.12"
  }
 },
 "nbformat": 4,
 "nbformat_minor": 2
}
